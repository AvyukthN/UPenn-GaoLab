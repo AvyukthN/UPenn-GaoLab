{
 "cells": [
  {
   "cell_type": "code",
   "execution_count": 7,
   "id": "8c2c825b",
   "metadata": {},
   "outputs": [],
   "source": [
    "import os\n",
    "import matplotlib.pyplot as plt\n",
    "    \n",
    "with open('./fasta_extracted.txt', 'r') as f:\n",
    "    lines = f.read().split('\\n')"
   ]
  },
  {
   "cell_type": "code",
   "execution_count": 8,
   "id": "e5696e4e",
   "metadata": {},
   "outputs": [],
   "source": [
    "from Bio import SeqIO\n",
    "\n",
    "sequence = []\n",
    "for record in SeqIO.parse(\"./fasta_data/hg38.fa\", \"fasta\"):\n",
    "    sequence.append([[], str(record.seq)])"
   ]
  },
  {
   "cell_type": "code",
   "execution_count": 9,
   "id": "0ac4fdb9",
   "metadata": {},
   "outputs": [],
   "source": [
    "print(sequence)"
   ]
  },
  {
   "cell_type": "code",
   "execution_count": 4,
   "id": "ce117e52",
   "metadata": {},
   "outputs": [],
   "source": [
    "extracted_arr = []\n",
    "for i in range(1, len(lines), 2):\n",
    "    extracted_arr.append([lines[i-1], lines[i]])"
   ]
  },
  {
   "cell_type": "code",
   "execution_count": 4,
   "id": "3c0a671a",
   "metadata": {},
   "outputs": [],
   "source": [
    "def get_reverse_complement(in_sequence: str):\n",
    "    sequence = \"\"\n",
    "    stack = []\n",
    "    for _ in in_sequence: stack.append(_)\n",
    "    while len(stack) > 0: sequence += stack.pop()\n",
    "    \n",
    "    reverse_hash = {'A': 'T', 'T': 'A', 'G': 'C', 'C': 'G'}\n",
    "    \n",
    "    return ''.join([reverse_hash[sequence[i]] for i in range(len(sequence))])\n",
    "\n",
    "def get_trinucleotide_counts(trin_hash: dict, seq: str):\n",
    "    for i in range(2, len(seq)):\n",
    "        curr_trin = seq[i-2] + seq[i-1] + seq[i]\n",
    "        \n",
    "        if curr_trin in trin_hash:\n",
    "            trin_hash[curr_trin] = trin_hash[curr_trin] + 1\n",
    "        else:\n",
    "            trin_hash[curr_trin] = 0\n",
    "    \n",
    "    return trin_hash\n",
    "\n",
    "def get_trin_list():\n",
    "    inter = []\n",
    "    \n",
    "    nucs = list('ACGT')\n",
    "    for i in range(len(nucs)):\n",
    "        for j in range(len(nucs)):\n",
    "            inter.append(nucs[i] + nucs[j])\n",
    "    \n",
    "    finalc = []\n",
    "    finalt = []\n",
    "    for i in range(len(inter)): finalc.append(f\"{inter[i][0]}C{inter[i][1]}\")\n",
    "    for i in range(len(inter)): finalt.append(f\"{inter[i][0]}T{inter[i][1]}\")\n",
    "        \n",
    "    finalc.sort()\n",
    "    finalt.sort()\n",
    "\n",
    "    return finalc + finalt"
   ]
  },
  {
   "cell_type": "code",
   "execution_count": 5,
   "id": "c34a92ea",
   "metadata": {},
   "outputs": [],
   "source": [
    "\"\"\"\n",
    "Need to count trinucleotides => _C_ and _T_\n",
    "\n",
    "1 - take reverse complement of each seq\n",
    "    - reverse\n",
    "    - complement\n",
    "2 - scan each seq for trinucleotides\n",
    "3 - plot\n",
    "\"\"\"\n",
    "def get_count_hash(extracted_arr):\n",
    "    trinucleotide_count_hash = {}\n",
    "\n",
    "    for i in range(len(extracted_arr)):\n",
    "        sequence = extracted_arr[i][1].upper()\n",
    "\n",
    "        reverse_comp = get_reverse_complement(sequence)\n",
    "\n",
    "        trinucleotide_count_hash = get_trinucleotide_counts(trinucleotide_count_hash, reverse_comp)\n",
    "    \n",
    "    return trinucleotide_count_hash"
   ]
  },
  {
   "cell_type": "code",
   "execution_count": 6,
   "id": "16672840",
   "metadata": {},
   "outputs": [
    {
     "name": "stdout",
     "output_type": "stream",
     "text": [
      "{'ATG': 4106, 'TCC': 4864, 'CAT': 4495, 'ATA': 2713, 'GGG': 3558, 'GGT': 3158, 'GTC': 3089, 'TCT': 5840, 'CTG': 6716, 'TGA': 4964, 'GAA': 5065, 'AAT': 3940, 'ATC': 3815, 'CCA': 5443, 'CAG': 6507, 'AGG': 4806, 'GGA': 4617, 'AAA': 5260, 'AAG': 4991, 'AGC': 4567, 'GCT': 4568, 'CTA': 2172, 'TAT': 2736, 'ATT': 4116, 'TTG': 4502, 'TGC': 4486, 'GCA': 4476, 'AGA': 5103, 'GAG': 4508, 'GAT': 3570, 'TCA': 5073, 'CAA': 4273, 'TGG': 5284, 'GGC': 4213, 'AAC': 3208, 'ACC': 3188, 'CCT': 5032, 'TAA': 2799, 'CTT': 5619, 'TTC': 5863, 'AGT': 3549, 'GTT': 3329, 'TTT': 6595, 'TTA': 2697, 'GCC': 4230, 'TCG': 1516, 'CGC': 1699, 'GAC': 3053, 'ACT': 3720, 'CTC': 4750, 'CAC': 4044, 'ACA': 4253, 'GCG': 1676, 'CCC': 3762, 'TAC': 2270, 'CCG': 2067, 'TGT': 4366, 'ACG': 1316, 'CGG': 2103, 'CGA': 1363, 'GTG': 3831, 'GTA': 2304, 'TAG': 2074, 'CGT': 1426}\n"
     ]
    }
   ],
   "source": [
    "print(trinucleotide_count_hash)"
   ]
  },
  {
   "cell_type": "code",
   "execution_count": 7,
   "id": "3e7528d9",
   "metadata": {},
   "outputs": [
    {
     "name": "stdout",
     "output_type": "stream",
     "text": [
      "['ACA', 'ACC', 'ACG', 'ACT', 'CCA', 'CCC', 'CCG', 'CCT', 'GCA', 'GCC', 'GCG', 'GCT', 'TCA', 'TCC', 'TCG', 'TCT', 'ATA', 'ATC', 'ATG', 'ATT', 'CTA', 'CTC', 'CTG', 'CTT', 'GTA', 'GTC', 'GTG', 'GTT', 'TTA', 'TTC', 'TTG', 'TTT']\n"
     ]
    }
   ],
   "source": [
    "def get_trin_pos_hash():\n",
    "    trin_list = get_trin_list()\n",
    "    # trin_list.sort()\n",
    "    print(trin_list)\n",
    "\n",
    "    trin_pos_hash = {}\n",
    "    for i in range(len(trin_list)): trin_pos_hash[trin_list[i]] = i\n",
    "        \n",
    "    return trin_pos_hash"
   ]
  },
  {
   "cell_type": "code",
   "execution_count": 8,
   "id": "b48df18a",
   "metadata": {},
   "outputs": [],
   "source": [
    "def get_final_counts(trin_list: list, trinucleotide_count_hash: dict, trin_pos_hash: dict):\n",
    "    final_counts = [0 for _ in trin_list]\n",
    "    for key in trinucleotide_count_hash:\n",
    "        if key in trin_list:\n",
    "            pos = trin_pos_hash[key]\n",
    "\n",
    "            final_counts[pos] = trinucleotide_count_hash[key]\n",
    "    \n",
    "    return final_counts"
   ]
  },
  {
   "cell_type": "code",
   "execution_count": 15,
   "id": "917fc76a",
   "metadata": {},
   "outputs": [
    {
     "data": {
      "text/plain": [
       "<matplotlib.legend.Legend at 0x127017dc0>"
      ]
     },
     "execution_count": 15,
     "metadata": {},
     "output_type": "execute_result"
    },
    {
     "data": {
      "image/png": "[encoded data removed]",
      "text/plain": [
       "<Figure size 2304x360 with 1 Axes>"
      ]
     },
     "metadata": {
      "needs_background": "light"
     },
     "output_type": "display_data"
    }
   ],
   "source": [
    "f, ax = plt.subplots(figsize=(32,5)) # set the size that you'd like (width, height)\n",
    "plt.bar(trin_list[:16], final_counts[:16])\n",
    "plt.bar(trin_list[16:], final_counts[16:])\n",
    "plt.xlabel('Trinucleotides')\n",
    "plt.ylabel('Frequency')\n",
    "ax.legend([\"C Trinucleotide Frequencies\", \"T Trinucleotide Frequencies\"], fontsize = 14)"
   ]
  },
  {
   "cell_type": "code",
   "execution_count": 10,
   "id": "be60c3ff",
   "metadata": {},
   "outputs": [],
   "source": [
    "f.savefig(\"Trinucleotide Frequency Plot\")"
   ]
  },
  {
   "cell_type": "code",
   "execution_count": 5,
   "id": "4456f535",
   "metadata": {},
   "outputs": [],
   "source": [
    "def trincount_from_seq(extracted_arr: list):\n",
    "    trinucleotide_count_hash = get_count_hash(extracted_arr)\n",
    "    trin_pos_hash = get_trin_pos_hash()\n",
    "    final_counts = get_final_counts(get_trin_list(), trinucleotide_hash_count, trin_pos_hash)\n",
    "    \n",
    "    return final_counts"
   ]
  },
  {
   "cell_type": "code",
   "execution_count": 6,
   "id": "a391667a",
   "metadata": {},
   "outputs": [],
   "source": [
    "spec = trin_count_from_seq(extracted_arr)\n",
    "whole = trin_count_from_seq()"
   ]
  },
  {
   "cell_type": "code",
   "execution_count": null,
   "id": "6d02c55b",
   "metadata": {},
   "outputs": [],
   "source": []
  }
 ],
 "metadata": {
  "kernelspec": {
   "display_name": "Python 3 (ipykernel)",
   "language": "python",
   "name": "python3"
  },
  "language_info": {
   "codemirror_mode": {
    "name": "ipython",
    "version": 3
   },
   "file_extension": ".py",
   "mimetype": "text/x-python",
   "name": "python",
   "nbconvert_exporter": "python",
   "pygments_lexer": "ipython3",
   "version": "3.10.2"
  }
 },
 "nbformat": 4,
 "nbformat_minor": 5
}
