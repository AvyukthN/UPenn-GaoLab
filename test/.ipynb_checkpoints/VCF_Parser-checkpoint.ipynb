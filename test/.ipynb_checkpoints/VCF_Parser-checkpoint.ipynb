{
 "cells": [
  {
   "cell_type": "code",
   "execution_count": 12,
   "id": "d7b78107",
   "metadata": {
    "scrolled": false
   },
   "outputs": [
    {
     "name": "stdout",
     "output_type": "stream",
     "text": [
      "     Unnamed: 0        CHROM       POS          ID REF ALT  QUAL FILTER  \\\n",
      "0             1  grch38#chr8  36353955        >1>4   C   G    60      .   \n",
      "1             2  grch38#chr8  36354189        >4>7   T   C    60      .   \n",
      "2             3  grch38#chr8  36354416       >7>10   C   T    60      .   \n",
      "3             4  grch38#chr8  36354547      >10>13   T   C    60      .   \n",
      "4             5  grch38#chr8  36354563      >13>15  GC   G    60      .   \n",
      "..          ...          ...       ...         ...  ..  ..   ...    ...   \n",
      "985         986  grch38#chr8  36451014  >2438>2441   G   C    60      .   \n",
      "986         987  grch38#chr8  36452052  >2441>2443   T  TG    60      .   \n",
      "987         988  grch38#chr8  36452774  >2443>2446   G   A    60      .   \n",
      "988         989  grch38#chr8  36452843  >2446>2449   T   C    60      .   \n",
      "989         990  grch38#chr8  36452962  >2449>2452   A   G    60      .   \n",
      "\n",
      "                                                  INFO FORMAT  \n",
      "0    AC=6;AF=0.0674157;AN=89;AT=>1>2>4,>1>3>4;NS=45...     GT  \n",
      "1    AC=2;AF=0.0224719;AN=89;AT=>4>5>7,>4>6>7;NS=45...     GT  \n",
      "2    AC=2;AF=0.0224719;AN=89;AT=>7>8>10,>7>9>10;NS=...     GT  \n",
      "3    AC=23;AF=0.258427;AN=89;AT=>10>11>13,>10>12>13...     GT  \n",
      "4    AC=1;AF=0.011236;AN=89;AT=>13>14>15,>13>15;NS=...     GT  \n",
      "..                                                 ...    ...  \n",
      "985  AC=5;AF=0.0561798;AN=89;AT=>2438>2440>2441,>24...     GT  \n",
      "986  AC=89;AF=1;AN=89;AT=>2441>2443,>2441>2442>2443...     GT  \n",
      "987  AC=3;AF=0.0337079;AN=89;AT=>2443>2444>2446,>24...     GT  \n",
      "988  AC=1;AF=0.011236;AN=89;AT=>2446>2448>2449,>244...     GT  \n",
      "989  AC=1;AF=0.011236;AN=89;AT=>2449>2451>2452,>244...     GT  \n",
      "\n",
      "[990 rows x 10 columns]\n"
     ]
    }
   ],
   "source": [
    "import pandas as pd\n",
    "import numpy as np\n",
    "import matplotlib.pyplot as plt\n",
    "\n",
    "## USE \"gunzip *filename*\" IN DOWNLOADS FOLDER TO UNZIP .vcf.gz FILES\n",
    "\n",
    "df = pd.read_csv('./vcf_data/sample_vcf.csv', index_col=None)\n",
    "print(df)"
   ]
  },
  {
   "cell_type": "code",
   "execution_count": 13,
   "id": "3862907c",
   "metadata": {},
   "outputs": [
    {
     "name": "stdout",
     "output_type": "stream",
     "text": [
      "[0, 1, 1, 3, 4, 4, 6, 7, 11, 25]\n"
     ]
    }
   ],
   "source": [
    "arr = [3, 4, 1, 4, 1, 6, 7, 11, 25, 0]\n",
    "\n",
    "arr.sort()\n",
    "print(arr)"
   ]
  },
  {
   "cell_type": "code",
   "execution_count": 14,
   "id": "f8a32082",
   "metadata": {},
   "outputs": [],
   "source": [
    "def get_data(df: pd.DataFrame):\n",
    "    MAF_col = []\n",
    "    for i in range(len(df['INFO'])):\n",
    "        info_hash = {}\n",
    "        info = df['INFO'][i].split(';')\n",
    "\n",
    "        for val in info:\n",
    "            if '=' in val:\n",
    "                val = val.split('=')\n",
    "                info_hash.update({val[0]: val[1].split(',')})\n",
    "        \n",
    "        AFs = [float(_) for _ in info_hash['AF']]\n",
    "        \n",
    "        if len(AFs) == 1:\n",
    "            AF = AFs[0]\n",
    "            MAF_col.append(min(AF, 1-AF))\n",
    "        if len(AFs) > 1:\n",
    "            af_sum = 0\n",
    "            for i in range(len(AFs)):\n",
    "                af_sum += AFs[i]\n",
    "            \n",
    "            AFs.append(1-af_sum)\n",
    "            AFs.sort()\n",
    "            \n",
    "            MAF_col.append(AFs[-2])\n",
    "            \n",
    "        '''\n",
    "        \n",
    "        num_alleles = int(info_hash['AN'])\n",
    "        num_alt_alleles = int(info_hash['AC'])\n",
    "        num_ref_alleles = num_alleles - num_alt_alleles\n",
    "\n",
    "        refa_freq = num_ref_alleles/num_alleles\n",
    "        alta_freq = num_alt_alleles/num_alleles\n",
    "\n",
    "        if alta_freq < refa_freq:\n",
    "            MAF_col.append(float(round(alta_freq*100, 3)))\n",
    "        else:\n",
    "            MAF_col.append(float(round(refa_freq*100, 3)))\n",
    "        \n",
    "        alt_allele_counts.append(num_alt_alleles)\n",
    "        '''\n",
    "            \n",
    "    return np.array(MAF_col)"
   ]
  },
  {
   "cell_type": "code",
   "execution_count": 15,
   "id": "598fd74a",
   "metadata": {},
   "outputs": [],
   "source": [
    "MAF_col = get_data(df)"
   ]
  },
  {
   "cell_type": "code",
   "execution_count": 16,
   "id": "99a68e8b",
   "metadata": {},
   "outputs": [],
   "source": [
    "hist_list = np.random.choice(MAF_col, size=100)"
   ]
  },
  {
   "cell_type": "code",
   "execution_count": 70,
   "id": "76fe1378",
   "metadata": {},
   "outputs": [
    {
     "data": {
      "text/plain": [
       "Text(0, 0.5, 'Allele Bin Count')"
      ]
     },
     "execution_count": 70,
     "metadata": {},
     "output_type": "execute_result"
    },
    {
     "data": {
      "image/png": "[encoded data removed]",
      "text/plain": [
       "<Figure size 432x288 with 1 Axes>"
      ]
     },
     "metadata": {
      "needs_background": "light"
     },
     "output_type": "display_data"
    }
   ],
   "source": [
    "plt.hist(MAF_col, bins=30)\n",
    "plt.title('Folded Site Frequency Spectrum')\n",
    "plt.xlabel('Minor Allele Frequency')\n",
    "plt.ylabel('Allele Bin Count')"
   ]
  },
  {
   "cell_type": "code",
   "execution_count": 8,
   "id": "c1efa2d3",
   "metadata": {},
   "outputs": [
    {
     "name": "stdout",
     "output_type": "stream",
     "text": [
      "Collecting scikit-allel\n",
      "  Downloading scikit_allel-1.3.8-cp310-cp310-macosx_11_0_arm64.whl.metadata (3.1 kB)\n",
      "Requirement already satisfied: numpy in /Library/Frameworks/Python.framework/Versions/3.10/lib/python3.10/site-packages (from scikit-allel) (1.22.3)\n",
      "Collecting dask[array] (from scikit-allel)\n",
      "  Using cached dask-2024.5.0-py3-none-any.whl.metadata (3.8 kB)\n",
      "Collecting click>=8.1 (from dask[array]->scikit-allel)\n",
      "  Downloading click-8.1.7-py3-none-any.whl.metadata (3.0 kB)\n",
      "Requirement already satisfied: cloudpickle>=1.5.0 in /Library/Frameworks/Python.framework/Versions/3.10/lib/python3.10/site-packages (from dask[array]->scikit-allel) (2.2.1)\n",
      "Requirement already satisfied: fsspec>=2021.09.0 in /Library/Frameworks/Python.framework/Versions/3.10/lib/python3.10/site-packages (from dask[array]->scikit-allel) (2023.6.0)\n",
      "Requirement already satisfied: packaging>=20.0 in /Library/Frameworks/Python.framework/Versions/3.10/lib/python3.10/site-packages (from dask[array]->scikit-allel) (21.3)\n",
      "Collecting partd>=1.2.0 (from dask[array]->scikit-allel)\n",
      "  Using cached partd-1.4.2-py3-none-any.whl.metadata (4.6 kB)\n",
      "Requirement already satisfied: pyyaml>=5.3.1 in /Library/Frameworks/Python.framework/Versions/3.10/lib/python3.10/site-packages (from dask[array]->scikit-allel) (6.0)\n",
      "Collecting toolz>=0.10.0 (from dask[array]->scikit-allel)\n",
      "  Using cached toolz-0.12.1-py3-none-any.whl.metadata (5.1 kB)\n",
      "Requirement already satisfied: importlib-metadata>=4.13.0 in /Library/Frameworks/Python.framework/Versions/3.10/lib/python3.10/site-packages (from dask[array]->scikit-allel) (6.8.0)\n",
      "Requirement already satisfied: zipp>=0.5 in /Library/Frameworks/Python.framework/Versions/3.10/lib/python3.10/site-packages (from importlib-metadata>=4.13.0->dask[array]->scikit-allel) (3.16.2)\n",
      "Requirement already satisfied: pyparsing!=3.0.5,>=2.0.2 in /Library/Frameworks/Python.framework/Versions/3.10/lib/python3.10/site-packages (from packaging>=20.0->dask[array]->scikit-allel) (3.0.7)\n",
      "Collecting locket (from partd>=1.2.0->dask[array]->scikit-allel)\n",
      "  Using cached locket-1.0.0-py2.py3-none-any.whl.metadata (2.8 kB)\n",
      "Downloading scikit_allel-1.3.8-cp310-cp310-macosx_11_0_arm64.whl (1.3 MB)\n",
      "\u001b[2K   \u001b[90m━━━━━━━━━━━━━━━━━━━━━━━━━━━━━━━━━━━━━━━━\u001b[0m \u001b[32m1.3/1.3 MB\u001b[0m \u001b[31m20.9 MB/s\u001b[0m eta \u001b[36m0:00:00\u001b[0ma \u001b[36m0:00:01\u001b[0m\n",
      "\u001b[?25hDownloading click-8.1.7-py3-none-any.whl (97 kB)\n",
      "\u001b[2K   \u001b[90m━━━━━━━━━━━━━━━━━━━━━━━━━━━━━━━━━━━━━━━━\u001b[0m \u001b[32m97.9/97.9 kB\u001b[0m \u001b[31m9.7 MB/s\u001b[0m eta \u001b[36m0:00:00\u001b[0m\n",
      "\u001b[?25hUsing cached partd-1.4.2-py3-none-any.whl (18 kB)\n",
      "Using cached toolz-0.12.1-py3-none-any.whl (56 kB)\n",
      "Using cached dask-2024.5.0-py3-none-any.whl (1.2 MB)\n",
      "Using cached locket-1.0.0-py2.py3-none-any.whl (4.4 kB)\n",
      "Installing collected packages: toolz, locket, click, partd, dask, scikit-allel\n",
      "  Attempting uninstall: click\n",
      "    Found existing installation: click 8.0.4\n",
      "    Uninstalling click-8.0.4:\n",
      "      Successfully uninstalled click-8.0.4\n",
      "Successfully installed click-8.1.7 dask-2024.5.0 locket-1.0.0 partd-1.4.2 scikit-allel-1.3.8 toolz-0.12.1\n",
      "\n",
      "\u001b[1m[\u001b[0m\u001b[34;49mnotice\u001b[0m\u001b[1;39;49m]\u001b[0m\u001b[39;49m A new release of pip is available: \u001b[0m\u001b[31;49m23.3.2\u001b[0m\u001b[39;49m -> \u001b[0m\u001b[32;49m24.0\u001b[0m\n",
      "\u001b[1m[\u001b[0m\u001b[34;49mnotice\u001b[0m\u001b[1;39;49m]\u001b[0m\u001b[39;49m To update, run: \u001b[0m\u001b[32;49mpip install --upgrade pip\u001b[0m\n"
     ]
    }
   ],
   "source": [
    "!pip install scikit-allel"
   ]
  },
  {
   "cell_type": "code",
   "execution_count": 18,
   "id": "d535a263",
   "metadata": {},
   "outputs": [],
   "source": [
    "import allel"
   ]
  },
  {
   "cell_type": "code",
   "execution_count": 34,
   "id": "9df228e5",
   "metadata": {},
   "outputs": [],
   "source": [
    "def get_counts(df: pd.DataFrame):\n",
    "    ACs = []\n",
    "    for i in range(len(df['INFO'])):\n",
    "        info_hash = {}\n",
    "        info = df['INFO'][i].split(';')\n",
    "\n",
    "        for val in info:\n",
    "            if '=' in val:\n",
    "                val = val.split('=')\n",
    "                info_hash.update({val[0]: val[1]})\n",
    "        \n",
    "        ac = int(info_hash['AC'])\n",
    "        an = int(info_hash['AN'])\n",
    "        \n",
    "        ACs.append([an-ac, ac])\n",
    "            \n",
    "    return ACs"
   ]
  },
  {
   "cell_type": "code",
   "execution_count": 35,
   "id": "873a49a9",
   "metadata": {},
   "outputs": [
    {
     "name": "stdout",
     "output_type": "stream",
     "text": [
      "[  3 372 154 106  66  32  24  90  58   7  12  12   4   2   2   1   3   0\n",
      "   1  11   4   7   5   7   0   0   0   1   0   0   1   0   0   1   1   1\n",
      "   2   0   0   0   0   0   0   0   0]\n"
     ]
    }
   ],
   "source": [
    "folded_sfs = allel.sfs_folded(get_counts(df))\n",
    "print(folded_sfs)"
   ]
  },
  {
   "cell_type": "code",
   "execution_count": 47,
   "id": "540da73b",
   "metadata": {},
   "outputs": [
    {
     "data": {
      "text/plain": [
       "<Axes: xlabel='minor allele count', ylabel='site frequency'>"
      ]
     },
     "execution_count": 47,
     "metadata": {},
     "output_type": "execute_result"
    },
    {
     "data": {
      "image/png": "[encoded data removed]",
      "text/plain": [
       "<Figure size 432x288 with 1 Axes>"
      ]
     },
     "metadata": {
      "needs_background": "light"
     },
     "output_type": "display_data"
    }
   ],
   "source": [
    "allel.plot_sfs_folded(folded_sfs)"
   ]
  },
  {
   "cell_type": "code",
   "execution_count": 41,
   "id": "ed209c83",
   "metadata": {},
   "outputs": [
    {
     "data": {
      "text/plain": [
       "<BarContainer object of 45 artists>"
      ]
     },
     "execution_count": 41,
     "metadata": {},
     "output_type": "execute_result"
    },
    {
     "data": {
      "image/png": "[encoded data removed]",
      "text/plain": [
       "<Figure size 432x288 with 1 Axes>"
      ]
     },
     "metadata": {
      "needs_background": "light"
     },
     "output_type": "display_data"
    }
   ],
   "source": [
    "plt.bar(range(0, len(folded_sfs)), folded_sfs)"
   ]
  },
  {
   "cell_type": "code",
   "execution_count": 57,
   "id": "4d5f4d19",
   "metadata": {},
   "outputs": [],
   "source": [
    "def get_ac(df: pd.DataFrame):\n",
    "    AC = []\n",
    "    for i in range(len(df['INFO'])):\n",
    "        info_hash = {}\n",
    "        info = df['INFO'][i].split(';')\n",
    "\n",
    "        for val in info:\n",
    "            if '=' in val:\n",
    "                val = val.split('=')\n",
    "                info_hash.update({val[0]: val[1]})\n",
    "        \n",
    "        ac = int(info_hash['AC'])\n",
    "        \n",
    "        AC.append(ac)\n",
    "            \n",
    "    return AC"
   ]
  },
  {
   "cell_type": "code",
   "execution_count": 66,
   "id": "cfec8d89",
   "metadata": {},
   "outputs": [],
   "source": [
    "sfs_unfolded_scaled = allel.sfs_scaled(get_ac(df))"
   ]
  },
  {
   "cell_type": "code",
   "execution_count": 67,
   "id": "2da9e126",
   "metadata": {},
   "outputs": [
    {
     "data": {
      "text/plain": [
       "<Axes: xlabel='derived allele count', ylabel='scaled site frequency'>"
      ]
     },
     "execution_count": 67,
     "metadata": {},
     "output_type": "execute_result"
    },
    {
     "data": {
      "image/png": "[encoded data removed]",
      "text/plain": [
       "<Figure size 432x288 with 1 Axes>"
      ]
     },
     "metadata": {
      "needs_background": "light"
     },
     "output_type": "display_data"
    }
   ],
   "source": [
    "allel.plot_sfs_scaled(sfs_unfolded_scaled)"
   ]
  },
  {
   "cell_type": "code",
   "execution_count": 68,
   "id": "a8431730",
   "metadata": {},
   "outputs": [
    {
     "data": {
      "text/plain": [
       "(array([69.,  8.,  5.,  1.,  2.,  3.,  0.,  1.,  0.,  1.]),\n",
       " array([  0. ,  62.3, 124.6, 186.9, 249.2, 311.5, 373.8, 436.1, 498.4,\n",
       "        560.7, 623. ]),\n",
       " <BarContainer object of 10 artists>)"
      ]
     },
     "execution_count": 68,
     "metadata": {},
     "output_type": "execute_result"
    },
    {
     "data": {
      "image/png": "[encoded data removed]",
      "text/plain": [
       "<Figure size 432x288 with 1 Axes>"
      ]
     },
     "metadata": {
      "needs_background": "light"
     },
     "output_type": "display_data"
    }
   ],
   "source": [
    "plt.hist(sfs_unfolded_scaled)"
   ]
  },
  {
   "cell_type": "code",
   "execution_count": 77,
   "id": "20d7ca62",
   "metadata": {},
   "outputs": [],
   "source": [
    "def get_mutation_type_arr(df: pd.DataFrame):\n",
    "    MType = []\n",
    "    for i in range(len(df['REF'])):\n",
    "        ancestral_allele = df['REF'][i]\n",
    "        derived_allele = df['ALT'][i]\n",
    "        \n",
    "        MType.append(f\"{ancestral_allele}>{derived_allele}\")\n",
    "    \n",
    "    return MType"
   ]
  },
  {
   "cell_type": "code",
   "execution_count": 80,
   "id": "43394f47",
   "metadata": {},
   "outputs": [
    {
     "name": "stdout",
     "output_type": "stream",
     "text": [
      "['C>G', 'T>C', 'C>T', 'T>C', 'GC>G', 'A>C', 'G>A', 'C>A', 'G>A', 'G>GTC', 'G>A', 'A>C', 'TAAAC>TAAACAAAC', 'TAAAC>T', 'A>C', 'T>C', 'G>C', 'GA>G', 'A>G', 'AAGAG>A', 'AAGGGAG>AA', 'AAGGGAG>AGGGGAG', 'CAGAG>C', 'A>G', 'C>T', 'G>A', 'T>G', 'A>G', 'A>G', 'T>A', 'G>A', 'G>A', 'C>T', 'C>T', 'CT>CC', 'CT>TT', 'C>G', 'G>A', 'G>C', 'G>A', 'A>G', 'A>G', 'A>G', 'T>C', 'C>A', 'G>A', 'T>C', 'G>A', 'G>A', 'C>T', 'G>C', 'G>A', 'CAA>C', 'CAA>CAAA', 'A>G', 'T>C', 'C>T', 'C>T', 'A>C', 'G>T', 'ATAGACCC>AA', 'T>TC', 'A>C', 'C>T', 'C>A', 'GG>AG', 'GG>GA', 'G>A', 'T>C', 'T>A', 'A>G', 'GA>G', 'A>G', 'TG>T', 'G>A', 'A>G', 'T>A', 'T>C', 'T>TTTTA', 'T>TTTTATTTATTTATTTA', 'T>TTTTATTTATTTATTTATTTA', 'T>TTTTATTTATTTATTTATTTATTTATTTA', 'T>TTTTATTTA', 'C>T', 'TAG>T', 'T>C', 'C>G', 'C>T', 'G>A', 'T>C', 'A>G', 'T>C', 'G>A', 'T>A', 'T>C', 'T>C', 'G>T', 'G>A', 'ATAT>A', 'G>A', 'C>T', 'AT>A', 'A>G', 'G>C', 'A>C', 'T>C', 'C>CA', 'A>C', 'A>G', 'C>T', 'CA>CAAAAAA', 'CA>CAAAAAAAA', 'CA>CAA', 'CA>CG', 'CA>CAAAAA', 'AC>A', 'C>A', 'A>G', 'G>A', 'T>A', 'A>G', 'T>C', 'T>G', 'C>A', 'C>T', 'A>G', 'C>A', 'C>G', 'TC>T', 'A>G', 'TGCAG>T', 'C>T', 'A>T', 'C>T', 'T>G', 'CAA>CA', 'CAA>CAAAA', 'CAA>CAAA', 'CAA>CAAAAA', 'CAA>C', 'CAA>CAAAAAAA', 'G>A', 'C>T', 'T>C', 'C>T', 'T>C', 'C>T', 'G>A', 'A>G', 'G>A', 'C>G', 'CACAT>CACACAT', 'CACAT>CACATAC', 'CACAT>CAC', 'C>CACACAT', 'T>C', 'G>A', 'G>A', 'G>C', 'T>C', 'G>A', 'A>G', 'A>G', 'C>T', 'A>C', 'C>A', 'T>C', 'C>A', 'C>T', 'T>C', 'T>C', 'C>T', 'C>T', 'C>T', 'G>C', 'C>T', 'G>A', 'A>AT', 'A>G', 'T>C', 'G>A', 'C>T', 'TAGAC>T', 'A>C', 'A>T', 'C>A', 'A>T', 'C>T', 'A>G', 'T>C', 'A>G', 'GAGAGAGAA>G', 'T>A', 'G>A', 'C>A', 'CTG>C', 'T>A', 'TA>T', 'A>T', 'T>C', 'A>C', 'C>T', 'G>A', 'A>G', 'CACT>C', 'C>A', 'CAA>C', 'CAA>CAAA', 'CAA>CA', 'CAA>CAAAA', 'CAA>CAAAAAA', 'AAAAAAAAAAAAAAAAG>A', 'AAAAAAAAAAAAAAAAG>AAA', 'AAAAAAAAAAAAAAAAG>AAG', 'G>A', 'T>C', 'C>G', 'G>A', 'T>C', 'G>A', 'T>G', 'G>A', 'T>C', 'A>G', 'G>C', 'GTTTCTTGAAAAACCAAATGT>GTTTCTTGAAAAACCAAAGGT', 'GTTTCTTGAAAAACCAAATGT>G', 'T>G', 'G>A', 'T>C', 'C>T', 'G>A', 'TTC>T', 'TTC>TTCTCTTTCTT', 'TTC>TTCTCTT', 'TTC>TTCTCTTTCTTTCTT', 'TTC>TTCTCTTTCTTTCTTTCTT', 'TTC>TTCTCTTTCTTTCTTTCTTTCTT', 'TTC>TCTC', 'TTC>TTCTTCTT', 'CTT>C', 'TTTCT>T', 'TTTCT>TTTC', 'CTTTCTTTC>CTTTCTTTCT', 'CTTTCTTTC>CTTTCT', 'CTTTCTTTC>C', 'CT>TC', 'T>TC', 'C>T', 'C>T', 'G>A', 'G>A', 'G>C', 'C>CAT', 'C>CATATAT', 'C>CATAT', 'CCT>C', 'TCCATATATATATATATATATATATATAT>TACATATATAT', 'TCCATATATATATATATATATATATATAT>TCCATATATATATATATATATATATATATAT', 'TCCATATATATATATATATATATATATAT>TCCATATATATATATATATATATAT', 'TCCATATATATATATATATATATATATAT>TCCATATATATATATATATATAT', 'TCCATATATATATATATATATATATATAT>TACATATATATATATATATATATATATAT', 'TCCATATATATATATATATATATATATAT>TCCATATATATATATATATATATATAT', 'TCCATATATATATATATATATATATATAT>TAC', 'TCCATATATATATATATATATATATATAT>TACATATATATATATATATATATATATATAT', 'TCCATATATATATATATATATATATATAT>TACATATATATATATATATATATATAT', 'TCCATATATATATATATATATATATATAT>TACAT', 'TCCATATATATATATATATATATATATAT>TCTACATAT', 'TCCATATATATATATATATATATATATAT>TACATATAT', 'TCCATATATATATATATATATATATATAT>TCCATATATATATATATATATATATATATATAT', 'TCCATATATATATATATATATATATATAT>TCCATATATATATATATATATATATATATATATAT', 'TCCATATATATATATATATATATATATAT>TCCATATATATATATAT', 'TCCATATATATATATATATATATATATAT>TCCATATATATATATATATAT', 'TCCATATATATATATATATATATATATAT>TCCATATATATATATATATATATATATATATATATAT', 'T>C', 'T>C', 'G>A', 'C>T', 'C>T', 'T>G', 'G>T', 'G>A', 'C>T', 'T>C', 'GA>GAA', 'GA>G', 'C>T', 'C>A', 'GT>GC', 'GT>AC', 'C>T', 'C>G', 'A>C', 'CA>C', 'CA>CAAAAAAAAAAAAAAAAAAAA', 'CA>CAAAAAAAAAAAAAAAAAAAAAAA', 'CA>CAAAAAAAAAAAAAAAAAAAAAAAAAAA', 'CA>CAA', 'CA>CAAAAAAAAAAAAAAAAAAAAAAAAAAAAA', 'CA>CAAAAAAA', 'A>T', 'T>A', 'A>C', 'C>T', 'A>T', 'T>C', 'G>A', 'A>G', 'CT>C', 'T>C', 'G>A', 'T>A', 'G>T', 'A>G', 'G>GT', 'C>T', 'C>T', 'T>C', 'C>T', 'A>G', 'G>A', 'G>A', 'T>C', 'A>G', 'T>C', 'G>A', 'TG>AG', 'TG>TA', 'T>C', 'C>T', 'G>T', 'TAA>TA', 'TAA>T', 'T>C', 'C>T', 'C>T', 'T>A', 'T>C', 'C>G', 'T>C', 'T>A', 'C>CCCT', 'C>T', 'CTCT>C', 'C>T', 'CTCT>C', 'T>C', 'G>A', 'C>T', 'CC>CCGTGGTAGTTA', 'CC>CT', 'CTTTTTTTTT>CTTTTTTTT', 'CTTTTTTTTT>CTTTTTTT', 'CTTTTTTTTT>C', 'CTTTTTTTTT>CTTTTTT', 'CTTTTTTTTT>CTTTT', 'CTTTTTTTTT>CTTTTT', 'T>A', 'C>CT', 'C>CTT', 'G>T', 'C>T', 'C>A', 'C>G', 'C>G', 'G>A', 'G>A', 'T>C', 'C>T', 'A>C', 'G>T', 'C>T', 'G>A', 'G>T', 'G>T', 'C>T', 'T>C', 'T>C', 'C>G', 'C>T', 'CT>C', 'nan>nan', 'nan>nan', 'nan>nan', 'nan>nan', 'nan>nan', 'nan>nan', 'nan>nan', 'nan>nan', 'nan>nan', 'nan>nan', 'nan>nan', 'nan>nan', 'nan>nan', 'nan>nan', 'nan>nan', 'nan>nan', 'nan>nan', 'nan>nan', 'nan>nan', 'nan>nan', 'nan>nan', 'nan>nan', 'nan>nan', 'nan>nan', 'nan>nan', 'nan>nan', 'nan>nan', 'nan>nan', 'nan>nan', 'nan>nan', 'nan>nan', 'nan>nan', 'nan>nan', 'nan>nan', 'nan>nan', 'nan>nan', 'nan>nan', 'nan>nan', 'nan>nan', 'nan>nan', 'nan>nan', 'nan>nan', 'nan>nan', 'nan>nan', 'nan>nan', 'nan>nan', 'nan>nan', 'nan>nan', 'nan>nan', 'nan>nan', 'nan>nan', 'nan>nan', 'nan>nan', 'nan>nan', 'nan>nan', 'nan>nan', 'nan>nan', 'nan>nan', 'nan>nan', 'nan>nan', 'nan>CCGATGCAGGCTCTTTTTTGGTTCCATATGAACTTTAAAGTAGTTTTTTCCAATTCTGTGAAGAAAGTCATTGGTAGCTTGATGGGGATGGCATTGAATCTGTAAATTACCTTGGGCAGTATGGCCATTTTCACGATATTGATTCTTCCTACGCATGAGCATGGAATGTTCTTCCATTTGTTTGTATCCTTTTATTTCCTTGAGCAGT', 'nan>nan', 'nan>nan', 'nan>nan', 'nan>nan', 'nan>nan', 'nan>nan', 'GACTTT>G', 'T>C', 'C>A', 'G>A', 'A>C', 'TG>CG', 'TG>TA', 'G>A', 'T>C', 'G>A', 'G>A', 'G>A', 'T>C', 'T>A', 'CA>TG', 'G>C', 'TTG>T', 'C>T', 'C>T', 'A>G', 'T>C', 'T>C', 'A>G', 'G>A', 'C>T', 'A>G', 'T>C', 'CA>CG', 'CA>TG', 'A>G', 'G>T', 'A>G', 'C>T', 'T>G', 'T>C', 'T>C', 'AA>AGG', 'G>A', 'CG>CA', 'CG>TG', 'C>T', 'T>G', 'C>A', 'A>C', 'C>T', 'T>TC', 'C>G', 'G>T', 'A>C', 'C>T', 'A>G', 'C>G', 'G>A', 'G>A', 'G>A', 'T>C', 'G>A', 'A>G', 'G>A', 'A>G', 'C>G', 'C>G', 'C>A', 'G>A', 'GT>GG', 'GT>CA', 'GT>CG', 'G>A', 'A>G', 'C>T', 'C>T', 'G>A', 'C>T', 'T>A', 'C>A', 'T>G', 'A>T', 'G>A', 'G>T', 'A>G', 'ATG>A', 'CT>C', 'T>TT', 'T>TC', 'T>TCTT', 'G>A', 'C>T', 'A>G', 'A>G', 'C>T', 'C>T', 'T>C', 'A>T', 'GC>GG', 'GC>CC', 'A>G', 'G>A', 'A>G', 'A>G', 'CAAA>CAAAAA', 'CAAA>CAAAA', 'CAAA>C', 'A>T', 'ATATATATAT>ATATAT', 'ATATATATAT>AAAAT', 'ATATATATAT>ATATATATATAT', 'ATATATATAT>AATATATAT', 'ATATATATAT>AAAAA', 'ATATATATAT>AAAT', 'ATATATATAT>AAATAT', 'ATATATATAT>AATAT', 'ATATATATAT>AATATATATAT', 'ATATATATAT>AAAA', 'ATATATATAT>AAATATATAT', 'T>A', 'T>C', 'T>C', 'C>T', 'T>C', 'T>TAA', 'T>TA', 'T>TAAAA', 'A>C', 'C>T', 'G>A', 'G>A', 'G>A', 'G>GT', 'C>T', 'C>T', 'T>C', 'C>G', 'C>A', 'C>T', 'C>T', 'A>G', 'C>T', 'C>G', 'C>T', 'G>T', 'G>A', 'C>T', 'T>C', 'C>G', 'A>AT', 'T>C', 'A>G', 'T>C', 'A>G', 'T>C', 'A>G', 'G>A', 'G>C', 'G>C', 'A>G', 'C>A', 'T>TA', 'G>A', 'C>T', 'TAGAG>T', 'G>A', 'T>C', 'C>T', 'A>T', 'G>A', 'A>C', 'G>C', 'A>C', 'G>T', 'G>A', 'G>A', 'A>C', 'ATTAAC>A', 'A>C', 'A>AC', 'T>TTTTTATTTTA', 'C>A', 'C>A', 'C>G', 'C>G', 'A>C', 'CG>CA', 'CG>TG', 'C>CT', 'C>CTTT', 'C>CTT', 'CT>C', 'C>T', 'T>TC', 'C>A', 'C>A', 'C>T', 'A>T', 'A>G', 'C>A', 'A>G', 'A>C', 'C>G', 'T>G', 'C>T', 'C>G', 'G>T', 'T>A', 'A>G', 'T>C', 'C>T', 'C>G', 'T>C', 'G>T', 'G>C', 'T>G', 'T>G', 'GCTGAAGTTGCTTATCAGCTTGAGGAGATTTTGGGCTGAGACGATGGGGTTTTCTAGATATACAATCATGTCAACTGC>GCTGAAGTTGCTTATCAGCTTGAGGAGATTTTGGGCTGAGATGATGGGGTTTTCTAGATATACAATCATGTCAACTGC', 'C>T', 'G>A', 'C>T', 'C>T', 'T>C', 'C>T', 'G>A', 'G>A', 'CC>AA', 'C>A', 'A>G', 'T>C', 'G>A', 'C>T', 'C>T', 'C>T', 'T>C', 'T>G', 'C>T', 'A>T', 'G>A', 'C>G', 'G>T', 'A>G', 'C>G', 'A>C', 'T>C', 'CTTCT>C', 'C>G', 'T>G', 'G>T', 'G>A', 'A>G', 'G>A', 'C>T', 'G>C', 'T>C', 'G>T', 'G>T', 'C>G', 'T>C', 'T>C', 'T>C', 'T>A', 'C>T', 'T>G', 'G>T', 'G>A', 'G>C', 'T>C', 'A>T', 'G>C', 'C>T', 'C>T', 'G>A', 'G>A', 'C>T', 'T>C', 'G>A', 'A>G', 'CG>TG', 'CG>CA', 'TG>T', 'G>A', 'CG>TG', 'CG>CA', 'C>T', 'G>A', 'A>G', 'T>G', 'G>A', 'T>C', 'A>G', 'T>C', 'C>CT', 'A>G', 'A>AAAC', 'A>G', 'CA>C', 'T>C', 'G>T', 'T>C', 'C>A', 'C>G', 'C>CA', 'C>G', 'A>C', 'C>T', 'C>T', 'T>C', 'G>A', 'G>C', 'A>T', 'A>G', 'T>G', 'T>C', 'A>C', 'G>T', 'G>GT', 'G>T', 'A>G', 'G>A', 'C>T', 'T>C', 'G>A', 'C>G', 'G>T', 'T>A', 'A>C', 'TGAAAAAAAAAAA>TGAAAAAAAAAA', 'TGAAAAAAAAAAA>TGAAAAAAAAA', 'TGAAAAAAAAAAA>TG', 'TGAAAAAAAAAAA>TTAAAAAAAAAAA', 'CTATA>C', 'T>C', 'G>GT', 'T>C', 'C>T', 'T>G', 'A>T', 'C>T', 'C>T', 'A>G', 'A>T', 'C>T', 'C>A', 'T>C', 'T>C', 'C>A', 'G>A', 'G>A', 'G>A', 'C>T', 'C>T', 'T>C', 'G>A', 'G>T', 'C>CA', 'C>T', 'A>T', 'C>A', 'T>TA', 'G>A', 'T>C', 'A>G', 'A>G', 'T>G', 'G>A', 'C>G', 'G>T', 'G>A', 'C>T', 'G>A', 'T>C', 'A>G', 'A>G', 'T>C', 'T>A', 'C>T', 'G>A', 'G>A', 'A>T', 'G>A', 'G>A', 'G>A', 'C>A', 'C>A', 'T>C', 'AC>A', 'C>A', 'T>C', 'GT>G', 'G>A', 'C>T', 'A>G', 'C>T', 'T>C', 'G>T', 'AAGAT>A', 'A>T', 'C>T', 'CG>CA', 'CG>TG', 'A>T', 'A>G', 'G>A', 'G>T', 'A>G', 'T>C', 'T>C', 'G>A', 'G>A', 'G>A', 'AAG>A', 'CTT>CT', 'CTT>CTTTC', 'CTT>CTTT', 'CTT>CTTTT', 'T>G', 'T>C', 'C>T', 'C>A', 'AT>A', 'C>T', 'T>A', 'G>A', 'C>T', 'A>G', 'T>A', 'T>G', 'A>G', 'ATATC>ATATCTATCTATCTATCTATCTATCTATCTATC', 'ATATC>ATATCTATCTATCTATCTATCTATCTATCTATCTATC', 'ATATC>ATATCTATCTATCTATCTATCTATCTATC', 'ATATC>A', 'A>C', 'C>T', 'CCCATCCAT>CCCAT', 'CCCATCCAT>C', 'C>T', 'GCATC>GCATCCATC', 'GCATC>G', 'C>CAT', 'TCCAT>T', 'TCCAT>TCCA', 'TATCCATCC>T', 'TATCCATCC>TATCC', 'CATGCATCCATCCATGCATCCATGCATCCATCTATCACT>C', 'A>C', 'A>AT', 'T>A', 'C>G', 'G>A', 'C>G', 'AT>AC', 'AT>A', 'G>T', 'G>A', 'T>G', 'C>T', 'G>A', 'A>G', 'A>T', 'T>C', 'T>C', 'G>A', 'AGAGGAAGGAAGGAAGGGAGGGAGG>A', 'G>A', 'G>A', 'C>A', 'A>G', 'C>T', 'C>CA', 'T>G', 'CTTTT>CTTTTT', 'CTTTT>CTTTTTT', 'CTTTT>CTTTTTTT', 'CTTTT>C', 'CTTTT>CTTT', 'T>G', 'G>A', 'C>T', 'G>A', 'C>CT', 'AT>ATT', 'AT>ATTTTTTTT', 'AT>ATTTTTTTTT', 'AT>ATTTTTTT', 'AT>A', 'T>C', 'A>G', 'T>C', 'G>A', 'G>A', 'T>A', 'T>G', 'C>T', 'T>C', 'C>T', 'C>T', 'T>C', 'G>A', 'G>A', 'C>T', 'G>A', 'G>A', 'C>G', 'G>A', 'CAA>CAAA', 'CAA>CA', 'CAA>C', 'TA>T', 'A>T', 'T>C', 'C>CAAAT', 'C>A', 'T>A', 'A>G', 'C>T', 'G>T', 'GAT>G', 'C>T', 'C>T', 'C>T', 'C>T', 'T>G', 'T>C', 'G>T', 'A>AT', 'G>A', 'C>G', 'C>T', 'T>C', 'T>A', 'T>C', 'G>GA', 'A>G', 'G>A', 'A>C', 'G>A', 'C>A', 'A>T', 'C>T', 'T>G', 'G>C', 'T>TG', 'G>A', 'T>C', 'A>G']\n"
     ]
    }
   ],
   "source": [
    "mutation_types = get_mutation_type_arr(df)\n",
    "print(mutation_types)"
   ]
  },
  {
   "cell_type": "code",
   "execution_count": null,
   "id": "1f8ad945",
   "metadata": {},
   "outputs": [],
   "source": []
  }
 ],
 "metadata": {
  "kernelspec": {
   "display_name": "Python 3 (ipykernel)",
   "language": "python",
   "name": "python3"
  },
  "language_info": {
   "codemirror_mode": {
    "name": "ipython",
    "version": 3
   },
   "file_extension": ".py",
   "mimetype": "text/x-python",
   "name": "python",
   "nbconvert_exporter": "python",
   "pygments_lexer": "ipython3",
   "version": "3.10.2"
  }
 },
 "nbformat": 4,
 "nbformat_minor": 5
}
