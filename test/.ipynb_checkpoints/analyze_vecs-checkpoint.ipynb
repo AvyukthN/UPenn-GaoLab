{
 "cells": [
  {
   "cell_type": "code",
   "execution_count": 1,
   "id": "6f9fbfe8",
   "metadata": {},
   "outputs": [],
   "source": [
    "import numpy as np\n",
    "import matplotlib.pyplot as plt\n",
    "\n",
    "hg_arr = np.load('./hg38-32vec.npy')\n",
    "sg_arr = np.load('extracted_test-32vec.npy')"
   ]
  },
  {
   "cell_type": "code",
   "execution_count": 2,
   "id": "f5a8739c",
   "metadata": {},
   "outputs": [
    {
     "name": "stdout",
     "output_type": "stream",
     "text": [
      "[123361491  91851269  51794880 109089715 124280274  79775293  89523320\n",
      " 137892662  90778310  79883465  44562915 102125501  79969777 103329108\n",
      "  90453448 122538279  52187664  44787786  14896267  49173694  90209404\n",
      "  90943992  92347451 101874218 109047611 100827663  49791378 135901695\n",
      " 137012075 121519984 103773124 233809625]\n",
      "(32,)\n",
      "[0 0 0 0 0 0 0 0 0 0 0 0 0 0 0 0 0 0 0 0 0 0 0 0 0 0 0 0 0 0 0 0]\n",
      "(32,)\n"
     ]
    }
   ],
   "source": [
    "print(hg_arr)\n",
    "print(hg_arr.shape)\n",
    "print(sg_arr)\n",
    "print(sg_arr.shape)"
   ]
  },
  {
   "cell_type": "code",
   "execution_count": null,
   "id": "a6c15211",
   "metadata": {},
   "outputs": [],
   "source": [
    "import numpy as np\n",
    "from CalcMRate2 import CalcMRate\n",
    "\n",
    "c = CalcMRate(\"./bed_data/test.bed\", \"./fasta_data/hg38.fa\", \"./extraction_dir\", \"extracted_test\", np.random.rand(96))"
   ]
  },
  {
   "cell_type": "code",
   "execution_count": null,
   "id": "a70e2125",
   "metadata": {},
   "outputs": [],
   "source": [
    "out = c.get_spec32()"
   ]
  },
  {
   "cell_type": "code",
   "execution_count": null,
   "id": "25691fcc",
   "metadata": {},
   "outputs": [],
   "source": [
    "print(out[0])\n",
    "print(out[1])"
   ]
  },
  {
   "cell_type": "code",
   "execution_count": null,
   "id": "bf7c5de2",
   "metadata": {},
   "outputs": [],
   "source": []
  }
 ],
 "metadata": {
  "kernelspec": {
   "display_name": "Python 3 (ipykernel)",
   "language": "python",
   "name": "python3"
  },
  "language_info": {
   "codemirror_mode": {
    "name": "ipython",
    "version": 3
   },
   "file_extension": ".py",
   "mimetype": "text/x-python",
   "name": "python",
   "nbconvert_exporter": "python",
   "pygments_lexer": "ipython3",
   "version": "3.10.2"
  }
 },
 "nbformat": 4,
 "nbformat_minor": 5
}
