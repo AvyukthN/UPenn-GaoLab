{
 "cells": [
  {
   "cell_type": "code",
   "execution_count": 12,
   "id": "3de3b47a-871a-46b0-8e95-4c3893f12802",
   "metadata": {},
   "outputs": [
    {
     "name": "stdout",
     "output_type": "stream",
     "text": [
      "0.00019998064001824318\n",
      "0.00018360673870927477\n"
     ]
    }
   ],
   "source": [
    "import numpy as np\n",
    "\n",
    "def get_signature(cosmic_filepath: str):\n",
    "    with open(cosmic_filepath) as f:\n",
    "        lines = f.read().split(\"\\n\")[:-1]\n",
    "\n",
    "    mat = np.array(list(map(lambda x: x.split(\"\\t\"), lines)))\n",
    "    grch38_sig = mat[:, 2][1:].astype(np.float32)\n",
    "\n",
    "    return grch38_sig\n",
    "\n",
    "    '''\n",
    "    print(grch38.shape)\n",
    "    print(grch38)\n",
    "    '''\n",
    "\n",
    "def get_hg38_32vec():\n",
    "    hg38_32vec = np.repeat(np.load(\"./hg38-32vec.npy\"), 3).astype(np.float32)\n",
    "    \n",
    "    return hg38_32vec\n",
    "\n",
    "def triplicate(vec: np.ndarray):\n",
    "    return np.repeat(vec, 3)\n",
    "\n",
    "sbs1 = get_signature(\"./COSMIC_signatures/v3.3_SBS7d_PROFILE.txt\")\n",
    "sbs5 = get_signature(\"./COSMIC_signatures/v3.3_SBS5_PROFILE.txt\")\n",
    "hg38_32vec = get_hg38_32vec()\n",
    "\n",
    "BRCA2_topcatvec = triplicate(np.load(\"./extracts/2024-08-16-10:39:41.637822_extract/geneTrimerVecs/BRCA2_TopCategory_Trimer_Frequency_Vec.npy\"))\n",
    "\n",
    "mutsig_rates_sbs1 = sbs1/hg38_32vec\n",
    "mutsig_rates_sbs5 = sbs5/hg38_32vec\n",
    "\n",
    "sbs1_numerator = np.dot(mutsig_rates_sbs1, BRCA2_topcatvec)\n",
    "sbs5_numerator = np.dot(mutsig_rates_sbs5, BRCA2_topcatvec)\n",
    "\n",
    "sbs1_denominator = np.dot(mutsig_rates_sbs1, BRCA2_trimer_freq_vec)\n",
    "sbs5_denominator = np.dot(mutsig_rates_sbs5, BRCA2_trimer_freq_vec)\n",
    "\n",
    "BRCA2_sbs1_susceptibility = sbs1_numerator / sbs1_denominator\n",
    "BRCA2_sbs5_susceptibility = sbs5_numerator / sbs5_denominator\n",
    "\n",
    "print(BRCA2_sbs1_susceptibility)\n",
    "print(BRCA2_sbs5_susceptibility)"
   ]
  },
  {
   "cell_type": "code",
   "execution_count": 5,
   "id": "dbf4ff5d-4807-4bb7-ac0e-bc39920a39bd",
   "metadata": {},
   "outputs": [
    {
     "name": "stdout",
     "output_type": "stream",
     "text": [
      "GENERATION OF 32-vec DESCRIPTOR | EXTRACTED SEQUENCES\n"
     ]
    },
    {
     "name": "stderr",
     "output_type": "stream",
     "text": [
      "100%|██████████████████████████████████████████████████████████████████████████████████████████████████████████████████████████████████████████████████████████████████| 6/6 [00:00<00:00, 12.42it/s]\n"
     ]
    }
   ],
   "source": [
    "import numpy as np\n",
    "from CalcMRate.CalcMRate2 import CalcMRate\n",
    "\n",
    "c = CalcMRate(\"./bed_data/BRCA2_hg38.bed\", \"./fasta_data/hg38.fa\", \"./extraction_dir\", \"extracted_test\", np.random.rand(96))\n",
    "out = c.get_spec32()\n",
    "trinlist, BRCA2_trimer_freq_vec = out"
   ]
  },
  {
   "cell_type": "code",
   "execution_count": 7,
   "id": "285d2e02-d4fc-4a18-bbaa-fb6a0a17aad1",
   "metadata": {},
   "outputs": [
    {
     "data": {
      "text/plain": [
       "(96,)"
      ]
     },
     "execution_count": 7,
     "metadata": {},
     "output_type": "execute_result"
    }
   ],
   "source": [
    "BRCA2_trimer_freq_vec = np.repeat(np.array(BRCA2_trimer_freq_vec), 3)\n",
    "BRCA2_trimer_freq_vec.shape"
   ]
  },
  {
   "cell_type": "code",
   "execution_count": 13,
   "id": "568a2bf7-0202-44f2-9a06-01ee7b0f3495",
   "metadata": {},
   "outputs": [
    {
     "name": "stdout",
     "output_type": "stream",
     "text": [
      "\n",
      "BRCA2 Susceptibility\t\tSBS\t\tnumerator\t\t\tdenominator\n",
      "0.00019998064001824318\t\t1\t\t3.1938670522332594e-08\t\t0.00015970881241013628\n",
      "0.00018360673870927477\t\t5\t\t2.9492780337717073e-08\t\t0.00016063016284176973\n",
      "\n"
     ]
    }
   ],
   "source": [
    "out_table = f\"\"\"\n",
    "BRCA2 Susceptibility\\t\\tSBS\\t\\tnumerator\\t\\t\\tdenominator\n",
    "{BRCA2_sbs1_susceptibility}\\t\\t1\\t\\t{sbs1_numerator}\\t\\t{sbs1_denominator}\n",
    "{BRCA2_sbs5_susceptibility}\\t\\t5\\t\\t{sbs5_numerator}\\t\\t{sbs5_denominator}\n",
    "\"\"\"\n",
    "\n",
    "print(out_table)"
   ]
  },
  {
   "cell_type": "code",
   "execution_count": null,
   "id": "8fa2458b-aed8-489f-94c4-e40a9ce44598",
   "metadata": {},
   "outputs": [],
   "source": []
  }
 ],
 "metadata": {
  "kernelspec": {
   "display_name": "Python 3 (ipykernel)",
   "language": "python",
   "name": "python3"
  },
  "language_info": {
   "codemirror_mode": {
    "name": "ipython",
    "version": 3
   },
   "file_extension": ".py",
   "mimetype": "text/x-python",
   "name": "python",
   "nbconvert_exporter": "python",
   "pygments_lexer": "ipython3",
   "version": "3.10.2"
  }
 },
 "nbformat": 4,
 "nbformat_minor": 5
}
