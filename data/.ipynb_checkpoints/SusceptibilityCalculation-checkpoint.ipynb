{
 "cells": [
  {
   "cell_type": "code",
   "execution_count": 1,
   "id": "3de3b47a-871a-46b0-8e95-4c3893f12802",
   "metadata": {},
   "outputs": [
    {
     "ename": "FileNotFoundError",
     "evalue": "[Errno 2] No such file or directory: './extracts/2024-08-16-10:39:41.637822_extract/BRCA2_TopCategory_Trimer_Frequency_Vec.npy'",
     "output_type": "error",
     "traceback": [
      "\u001b[0;31m---------------------------------------------------------------------------\u001b[0m",
      "\u001b[0;31mFileNotFoundError\u001b[0m                         Traceback (most recent call last)",
      "Input \u001b[0;32mIn [1]\u001b[0m, in \u001b[0;36m<cell line: 29>\u001b[0;34m()\u001b[0m\n\u001b[1;32m     26\u001b[0m sbs5 \u001b[38;5;241m=\u001b[39m get_signature(\u001b[38;5;124m\"\u001b[39m\u001b[38;5;124m./COSMIC_signatures/v3.3_SBS5_PROFILE.txt\u001b[39m\u001b[38;5;124m\"\u001b[39m)\n\u001b[1;32m     27\u001b[0m hg38_32vec \u001b[38;5;241m=\u001b[39m get_hg38_32vec()\n\u001b[0;32m---> 29\u001b[0m BRCA2_topcatvec \u001b[38;5;241m=\u001b[39m triplicate(\u001b[43mnp\u001b[49m\u001b[38;5;241;43m.\u001b[39;49m\u001b[43mload\u001b[49m\u001b[43m(\u001b[49m\u001b[38;5;124;43m\"\u001b[39;49m\u001b[38;5;124;43m./extracts/2024-08-16-10:39:41.637822_extract/BRCA2_TopCategory_Trimer_Frequency_Vec.npy\u001b[39;49m\u001b[38;5;124;43m\"\u001b[39;49m\u001b[43m)\u001b[49m)\n\u001b[1;32m     31\u001b[0m mutsig_rates_sbs1 \u001b[38;5;241m=\u001b[39m sbs1\u001b[38;5;241m/\u001b[39mhg38_32vec\n\u001b[1;32m     32\u001b[0m mutsig_rates_sbs5 \u001b[38;5;241m=\u001b[39m sbs5\u001b[38;5;241m/\u001b[39mhg38_32vec\n",
      "File \u001b[0;32m/Library/Frameworks/Python.framework/Versions/3.10/lib/python3.10/site-packages/numpy/lib/npyio.py:405\u001b[0m, in \u001b[0;36mload\u001b[0;34m(file, mmap_mode, allow_pickle, fix_imports, encoding, max_header_size)\u001b[0m\n\u001b[1;32m    403\u001b[0m     own_fid \u001b[38;5;241m=\u001b[39m \u001b[38;5;28;01mFalse\u001b[39;00m\n\u001b[1;32m    404\u001b[0m \u001b[38;5;28;01melse\u001b[39;00m:\n\u001b[0;32m--> 405\u001b[0m     fid \u001b[38;5;241m=\u001b[39m stack\u001b[38;5;241m.\u001b[39menter_context(\u001b[38;5;28;43mopen\u001b[39;49m\u001b[43m(\u001b[49m\u001b[43mos_fspath\u001b[49m\u001b[43m(\u001b[49m\u001b[43mfile\u001b[49m\u001b[43m)\u001b[49m\u001b[43m,\u001b[49m\u001b[43m \u001b[49m\u001b[38;5;124;43m\"\u001b[39;49m\u001b[38;5;124;43mrb\u001b[39;49m\u001b[38;5;124;43m\"\u001b[39;49m\u001b[43m)\u001b[49m)\n\u001b[1;32m    406\u001b[0m     own_fid \u001b[38;5;241m=\u001b[39m \u001b[38;5;28;01mTrue\u001b[39;00m\n\u001b[1;32m    408\u001b[0m \u001b[38;5;66;03m# Code to distinguish from NumPy binary files and pickles.\u001b[39;00m\n",
      "\u001b[0;31mFileNotFoundError\u001b[0m: [Errno 2] No such file or directory: './extracts/2024-08-16-10:39:41.637822_extract/BRCA2_TopCategory_Trimer_Frequency_Vec.npy'"
     ]
    }
   ],
   "source": [
    "import numpy as np\n",
    "\n",
    "def get_signature(cosmic_filepath: str):\n",
    "    with open(cosmic_filepath) as f:\n",
    "        lines = f.read().split(\"\\n\")[:-1]\n",
    "\n",
    "    mat = np.array(list(map(lambda x: x.split(\"\\t\"), lines)))\n",
    "    grch38_sig = mat[:, 2][1:].astype(np.float32)\n",
    "\n",
    "    return grch38_sig\n",
    "\n",
    "    '''\n",
    "    print(grch38.shape)\n",
    "    print(grch38)\n",
    "    '''\n",
    "\n",
    "def get_hg38_32vec():\n",
    "    hg38_32vec = np.repeat(np.load(\"./hg38-32vec.npy\"), 3).astype(np.float32)\n",
    "    \n",
    "    return hg38_32vec\n",
    "\n",
    "def triplicate(vec: np.ndarray):\n",
    "    return np.repeat(vec, 3)\n",
    "\n",
    "sbs1 = get_signature(\"./COSMIC_signatures/v3.3_SBS7d_PROFILE.txt\")\n",
    "sbs5 = get_signature(\"./COSMIC_signatures/v3.3_SBS5_PROFILE.txt\")\n",
    "hg38_32vec = get_hg38_32vec()\n",
    "\n",
    "BRCA2_topcatvec = triplicate(np.load(\"./extracts/2024-08-16-10:39:41.637822_extract/BRCA2_TopCategory_Trimer_Frequency_Vec.npy\"))\n",
    "\n",
    "mutsig_rates_sbs1 = sbs1/hg38_32vec\n",
    "mutsig_rates_sbs5 = sbs5/hg38_32vec\n",
    "\n",
    "sbs1_numerator = np.dot(mutsig_rates_sbs1, BRCA2_topcatvec)\n",
    "sbs5_numerator = np.dot(mutsig_rates_sbs5, BRCA2_topcatvec)\n",
    "\n",
    "sbs1_denominator = np.dot(mutsig_rates_sbs1, BRCA2_trimer_freq_vec)\n",
    "sbs5_denominator = np.dot(mutsig_rates_sbs5, BRCA2_trimer_freq_vec)\n",
    "\n",
    "BRCA2_sbs1_susceptibility = sbs1_numerator / sbs1_denominator\n",
    "BRCA2_sbs5_susceptibility = sbs5_numerator / sbs5_denominator\n",
    "\n",
    "print(BRCA2_sbs1_susceptibility)\n",
    "print(BRCA2_sbs5_susceptibility)"
   ]
  },
  {
   "cell_type": "code",
   "execution_count": 10,
   "id": "dbf4ff5d-4807-4bb7-ac0e-bc39920a39bd",
   "metadata": {},
   "outputs": [
    {
     "name": "stdout",
     "output_type": "stream",
     "text": [
      "GENERATION OF 32-vec DESCRIPTOR | EXTRACTED SEQUENCES\n"
     ]
    },
    {
     "name": "stderr",
     "output_type": "stream",
     "text": [
      "100%|██████████████████████████████████████████████████████████████████████████████████████████████████████████████████████████████████████████████████| 6/6 [00:00<00:00, 16.05it/s]\n"
     ]
    }
   ],
   "source": [
    "import numpy as np\n",
    "from CalcMRate.CalcMRate2 import CalcMRate\n",
    "\n",
    "c = CalcMRate(\"./bed_data/BRCA2_hg38.bed\", \"./fasta_data/hg38.fa\", \"./extraction_dir\", \"extracted_test\", np.random.rand(96))\n",
    "out = c.get_spec32()\n",
    "trinlist, BRCA2_trimer_freq_vec = out"
   ]
  },
  {
   "cell_type": "code",
   "execution_count": 2,
   "id": "285d2e02-d4fc-4a18-bbaa-fb6a0a17aad1",
   "metadata": {},
   "outputs": [
    {
     "data": {
      "text/plain": [
       "(96,)"
      ]
     },
     "execution_count": 2,
     "metadata": {},
     "output_type": "execute_result"
    }
   ],
   "source": [
    "BRCA2_trimer_freq_vec = np.repeat(np.array(BRCA2_trimer_freq_vec), 3)\n",
    "BRCA2_trimer_freq_vec.shape"
   ]
  },
  {
   "cell_type": "code",
   "execution_count": 6,
   "id": "568a2bf7-0202-44f2-9a06-01ee7b0f3495",
   "metadata": {},
   "outputs": [
    {
     "name": "stdout",
     "output_type": "stream",
     "text": [
      "\n",
      "BRCA2 Susceptibility\t\tSBS\t\tnumerator\t\t\tdenominator\n",
      "0.0006083907916874334\t\t1\t\t1.0688196102311742e-07\t\t0.00017567978096228164\n",
      "0.002097864081457382\t\t5\t\t3.3698024902439894e-07\t\t0.00016063016284176973\n",
      "\n"
     ]
    }
   ],
   "source": [
    "out_table = f\"\"\"\n",
    "BRCA2 Susceptibility\\t\\tSBS\\t\\tnumerator\\t\\t\\tdenominator\n",
    "{BRCA2_sbs1_susceptibility}\\t\\t1\\t\\t{sbs1_numerator}\\t\\t{sbs1_denominator}\n",
    "{BRCA2_sbs5_susceptibility}\\t\\t5\\t\\t{sbs5_numerator}\\t\\t{sbs5_denominator}\n",
    "\"\"\"\n",
    "\n",
    "print(out_table)"
   ]
  },
  {
   "cell_type": "code",
   "execution_count": null,
   "id": "8fa2458b-aed8-489f-94c4-e40a9ce44598",
   "metadata": {},
   "outputs": [],
   "source": []
  }
 ],
 "metadata": {
  "kernelspec": {
   "display_name": "Python 3 (ipykernel)",
   "language": "python",
   "name": "python3"
  },
  "language_info": {
   "codemirror_mode": {
    "name": "ipython",
    "version": 3
   },
   "file_extension": ".py",
   "mimetype": "text/x-python",
   "name": "python",
   "nbconvert_exporter": "python",
   "pygments_lexer": "ipython3",
   "version": "3.10.2"
  }
 },
 "nbformat": 4,
 "nbformat_minor": 5
}
